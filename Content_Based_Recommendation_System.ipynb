{
  "nbformat": 4,
  "nbformat_minor": 0,
  "metadata": {
    "kernelspec": {
      "display_name": "Python 3",
      "language": "python",
      "name": "python3"
    },
    "language_info": {
      "codemirror_mode": {
        "name": "ipython",
        "version": 3
      },
      "file_extension": ".py",
      "mimetype": "text/x-python",
      "name": "python",
      "nbconvert_exporter": "python",
      "pygments_lexer": "ipython3",
      "version": "3.7.1"
    },
    "colab": {
      "name": "Content Based Recommendation System.ipynb",
      "provenance": [],
      "collapsed_sections": []
    }
  },
  "cells": [
    {
      "cell_type": "code",
      "metadata": {
        "id": "qbuOXn9_Q2Pw"
      },
      "source": [
        "import pandas as pd"
      ],
      "execution_count": 4,
      "outputs": []
    },
    {
      "cell_type": "code",
      "metadata": {
        "id": "RUmlxofCQ2P2"
      },
      "source": [
        "movies_data = pd.read_csv('movies_metadata.csv',low_memory=False)"
      ],
      "execution_count": 6,
      "outputs": []
    },
    {
      "cell_type": "code",
      "metadata": {
        "id": "3U_x7ti7Q2P6",
        "colab": {
          "base_uri": "https://localhost:8080/"
        },
        "outputId": "d9627180-51a0-4354-ac21-45d3a90164b6"
      },
      "source": [
        "from ast import literal_eval\n",
        "movies_data['genres'] = movies_data['genres'].fillna('[]').apply(literal_eval)\n",
        "movies_data['genres'] = movies_data['genres'].apply(lambda x: [i['name'] for i in x] if isinstance(x, list) else[])\n",
        "movies_data['genres'].head(2)"
      ],
      "execution_count": 7,
      "outputs": [
        {
          "output_type": "execute_result",
          "data": {
            "text/plain": [
              "0     [Animation, Comedy, Family]\n",
              "1    [Adventure, Fantasy, Family]\n",
              "Name: genres, dtype: object"
            ]
          },
          "metadata": {
            "tags": []
          },
          "execution_count": 7
        }
      ]
    },
    {
      "cell_type": "code",
      "metadata": {
        "id": "osJuaEcJSzoy",
        "colab": {
          "base_uri": "https://localhost:8080/"
        },
        "outputId": "4f35c56a-6fdb-4796-b07a-4aea6fc182a8"
      },
      "source": [
        "genre_split = movies_data.apply(lambda x: pd.Series(x['genres']),axis=1).stack().reset_index(level=1, drop=True)\n",
        "genre_split.head(6)"
      ],
      "execution_count": 8,
      "outputs": [
        {
          "output_type": "stream",
          "text": [
            "/usr/local/lib/python3.7/dist-packages/ipykernel_launcher.py:1: DeprecationWarning: The default dtype for empty Series will be 'object' instead of 'float64' in a future version. Specify a dtype explicitly to silence this warning.\n",
            "  \"\"\"Entry point for launching an IPython kernel.\n"
          ],
          "name": "stderr"
        },
        {
          "output_type": "execute_result",
          "data": {
            "text/plain": [
              "0    Animation\n",
              "0       Comedy\n",
              "0       Family\n",
              "1    Adventure\n",
              "1      Fantasy\n",
              "1       Family\n",
              "dtype: object"
            ]
          },
          "metadata": {
            "tags": []
          },
          "execution_count": 8
        }
      ]
    },
    {
      "cell_type": "code",
      "metadata": {
        "id": "tYHVanRoS2RX"
      },
      "source": [
        "genre_split.name = 'Genre'\n",
        "md = movies_data.drop('genres', axis=1).join(genre_split)"
      ],
      "execution_count": 15,
      "outputs": []
    },
    {
      "cell_type": "code",
      "metadata": {
        "id": "xedQeteyQ2P_"
      },
      "source": [
        "import numpy as np\n",
        "movies_data['year'] = pd.to_datetime(movies_data['release_date'], errors='coerce')\n",
        "movies_data['year'] = movies_data['year'].apply(lambda x: str(x).split('-')[0] if x != np.nan else np.nan)"
      ],
      "execution_count": 17,
      "outputs": []
    },
    {
      "cell_type": "markdown",
      "metadata": {
        "id": "blVCY5YjQ2QL"
      },
      "source": [
        "#### CONTENT BASED RECOMMENDER(METADATA BASED RECOMMENDER)"
      ]
    },
    {
      "cell_type": "code",
      "metadata": {
        "id": "MyDiQII8Q2QM",
        "colab": {
          "base_uri": "https://localhost:8080/",
          "height": 204
        },
        "outputId": "f77abb02-bcec-47a7-aee6-422c552749ab"
      },
      "source": [
        "links_small = pd.read_csv('links_small.csv', error_bad_lines= False)\n",
        "links_small.head()"
      ],
      "execution_count": 20,
      "outputs": [
        {
          "output_type": "execute_result",
          "data": {
            "text/html": [
              "<div>\n",
              "<style scoped>\n",
              "    .dataframe tbody tr th:only-of-type {\n",
              "        vertical-align: middle;\n",
              "    }\n",
              "\n",
              "    .dataframe tbody tr th {\n",
              "        vertical-align: top;\n",
              "    }\n",
              "\n",
              "    .dataframe thead th {\n",
              "        text-align: right;\n",
              "    }\n",
              "</style>\n",
              "<table border=\"1\" class=\"dataframe\">\n",
              "  <thead>\n",
              "    <tr style=\"text-align: right;\">\n",
              "      <th></th>\n",
              "      <th>movieId</th>\n",
              "      <th>imdbId</th>\n",
              "      <th>tmdbId</th>\n",
              "    </tr>\n",
              "  </thead>\n",
              "  <tbody>\n",
              "    <tr>\n",
              "      <th>0</th>\n",
              "      <td>1</td>\n",
              "      <td>114709</td>\n",
              "      <td>862.0</td>\n",
              "    </tr>\n",
              "    <tr>\n",
              "      <th>1</th>\n",
              "      <td>2</td>\n",
              "      <td>113497</td>\n",
              "      <td>8844.0</td>\n",
              "    </tr>\n",
              "    <tr>\n",
              "      <th>2</th>\n",
              "      <td>3</td>\n",
              "      <td>113228</td>\n",
              "      <td>15602.0</td>\n",
              "    </tr>\n",
              "    <tr>\n",
              "      <th>3</th>\n",
              "      <td>4</td>\n",
              "      <td>114885</td>\n",
              "      <td>31357.0</td>\n",
              "    </tr>\n",
              "    <tr>\n",
              "      <th>4</th>\n",
              "      <td>5</td>\n",
              "      <td>113041</td>\n",
              "      <td>11862.0</td>\n",
              "    </tr>\n",
              "  </tbody>\n",
              "</table>\n",
              "</div>"
            ],
            "text/plain": [
              "   movieId  imdbId   tmdbId\n",
              "0        1  114709    862.0\n",
              "1        2  113497   8844.0\n",
              "2        3  113228  15602.0\n",
              "3        4  114885  31357.0\n",
              "4        5  113041  11862.0"
            ]
          },
          "metadata": {
            "tags": []
          },
          "execution_count": 20
        }
      ]
    },
    {
      "cell_type": "code",
      "metadata": {
        "id": "WdzW6AFWQ2QQ"
      },
      "source": [
        "links_small = links_small[links_small['tmdbId'].notnull()]['tmdbId'].astype('int')"
      ],
      "execution_count": 21,
      "outputs": []
    },
    {
      "cell_type": "code",
      "metadata": {
        "id": "z_Nw235eQ2QU",
        "colab": {
          "base_uri": "https://localhost:8080/"
        },
        "outputId": "0aba0008-bdcb-4e3a-b4fb-0c261850de27"
      },
      "source": [
        "from pandas.api.types import is_numeric_dtype\n",
        "is_numeric_dtype(md['id'])"
      ],
      "execution_count": 22,
      "outputs": [
        {
          "output_type": "execute_result",
          "data": {
            "text/plain": [
              "False"
            ]
          },
          "metadata": {
            "tags": []
          },
          "execution_count": 22
        }
      ]
    },
    {
      "cell_type": "code",
      "metadata": {
        "id": "GZ_PiNUWQ2QY",
        "colab": {
          "base_uri": "https://localhost:8080/"
        },
        "outputId": "e0c5a11f-dd00-490b-86bb-893f2f0f412e"
      },
      "source": [
        "md = md.drop([19730, 29503, 35587])\n",
        "md['id'] = md['id'].astype('int')\n",
        "md['id'].head(10)"
      ],
      "execution_count": 23,
      "outputs": [
        {
          "output_type": "execute_result",
          "data": {
            "text/plain": [
              "0      862\n",
              "0      862\n",
              "0      862\n",
              "1     8844\n",
              "1     8844\n",
              "1     8844\n",
              "2    15602\n",
              "2    15602\n",
              "3    31357\n",
              "3    31357\n",
              "Name: id, dtype: int64"
            ]
          },
          "metadata": {
            "tags": []
          },
          "execution_count": 23
        }
      ]
    },
    {
      "cell_type": "code",
      "metadata": {
        "id": "KkuwhJ7EQ2Qc",
        "colab": {
          "base_uri": "https://localhost:8080/"
        },
        "outputId": "a61032cc-48c5-4fcc-b159-3cdd9bf2ace9"
      },
      "source": [
        "md_new = md[md['id'].isin(links_small)]\n",
        "md_new.shape"
      ],
      "execution_count": 24,
      "outputs": [
        {
          "output_type": "execute_result",
          "data": {
            "text/plain": [
              "(22491, 24)"
            ]
          },
          "metadata": {
            "tags": []
          },
          "execution_count": 24
        }
      ]
    },
    {
      "cell_type": "code",
      "metadata": {
        "id": "DLHrFnY8Q2Qh",
        "colab": {
          "base_uri": "https://localhost:8080/"
        },
        "outputId": "58c9b24d-9632-4c2f-d98d-9f48257fdd40"
      },
      "source": [
        "md_new_sample = md_new.sample(frac = 0.15,random_state=42)\n",
        "md_new_sample.shape"
      ],
      "execution_count": 25,
      "outputs": [
        {
          "output_type": "execute_result",
          "data": {
            "text/plain": [
              "(3374, 24)"
            ]
          },
          "metadata": {
            "tags": []
          },
          "execution_count": 25
        }
      ]
    },
    {
      "cell_type": "code",
      "metadata": {
        "id": "Tptr_dlxQ2Qm"
      },
      "source": [
        "md_new_sample['tagline'] = md_new_sample['tagline'].fillna('')\n",
        "md_new_sample['description'] = md_new_sample['overview'] + md_new_sample['tagline']\n",
        "md_new_sample['description'] = md_new_sample['description'].fillna('')"
      ],
      "execution_count": 27,
      "outputs": []
    },
    {
      "cell_type": "code",
      "metadata": {
        "id": "sspPN7POQ2Qp"
      },
      "source": [
        "from sklearn.feature_extraction.text import TfidfVectorizer\n",
        "from sklearn.metrics.pairwise import linear_kernel"
      ],
      "execution_count": 28,
      "outputs": []
    },
    {
      "cell_type": "code",
      "metadata": {
        "id": "bLt5W1HBQ2Qt",
        "colab": {
          "base_uri": "https://localhost:8080/"
        },
        "outputId": "52dc499b-c37d-4d39-a655-8d9c21dd445d"
      },
      "source": [
        "tf = TfidfVectorizer(analyzer='word',ngram_range=(1, 2),stop_words='english')\n",
        "tfidf_matrix = tf.fit_transform(md_new_sample['description'])\n",
        "tfidf_matrix.shape"
      ],
      "execution_count": 29,
      "outputs": [
        {
          "output_type": "execute_result",
          "data": {
            "text/plain": [
              "(3374, 99501)"
            ]
          },
          "metadata": {
            "tags": []
          },
          "execution_count": 29
        }
      ]
    },
    {
      "cell_type": "code",
      "metadata": {
        "id": "oFE7ZrXRQ2Qw"
      },
      "source": [
        "cosine_sim = linear_kernel(tfidf_matrix, tfidf_matrix)"
      ],
      "execution_count": 30,
      "outputs": []
    },
    {
      "cell_type": "code",
      "metadata": {
        "id": "XnSc7KOebbDN",
        "colab": {
          "base_uri": "https://localhost:8080/"
        },
        "outputId": "2485b0c5-73f3-4533-ccf0-0c8e9aa791da"
      },
      "source": [
        "cosine_sim"
      ],
      "execution_count": 31,
      "outputs": [
        {
          "output_type": "execute_result",
          "data": {
            "text/plain": [
              "array([[1.        , 0.00783607, 0.        , ..., 0.        , 0.03788309,\n",
              "        0.00629117],\n",
              "       [0.00783607, 1.        , 0.        , ..., 0.        , 0.00528033,\n",
              "        0.        ],\n",
              "       [0.        , 0.        , 1.        , ..., 0.        , 0.        ,\n",
              "        0.01328575],\n",
              "       ...,\n",
              "       [0.        , 0.        , 0.        , ..., 1.        , 0.00930783,\n",
              "        0.        ],\n",
              "       [0.03788309, 0.00528033, 0.        , ..., 0.00930783, 1.        ,\n",
              "        0.        ],\n",
              "       [0.00629117, 0.        , 0.01328575, ..., 0.        , 0.        ,\n",
              "        1.        ]])"
            ]
          },
          "metadata": {
            "tags": []
          },
          "execution_count": 31
        }
      ]
    },
    {
      "cell_type": "code",
      "metadata": {
        "id": "6M_5sPekQ2Q0",
        "colab": {
          "base_uri": "https://localhost:8080/"
        },
        "outputId": "a58c201f-35b8-42b4-9fe9-c57b8e5de953"
      },
      "source": [
        "pd.Series(md_new_sample.index, index=md_new_sample['title'])"
      ],
      "execution_count": 32,
      "outputs": [
        {
          "output_type": "execute_result",
          "data": {
            "text/plain": [
              "title\n",
              "The Spy Next Door                 14850\n",
              "Just Go with It                   16818\n",
              "King Creole                        3483\n",
              "Nancy Drew                        11865\n",
              "American Wedding                   6437\n",
              "                                  ...  \n",
              "Fallen                             1666\n",
              "Thirst                            15482\n",
              "Swimming Pool                      6389\n",
              "Hillbillys in a Haunted House      3340\n",
              "Betty Fisher and Other Stories     5440\n",
              "Length: 3374, dtype: int64"
            ]
          },
          "metadata": {
            "tags": []
          },
          "execution_count": 32
        }
      ]
    },
    {
      "cell_type": "code",
      "metadata": {
        "id": "-W6NzOfaQ2Q3"
      },
      "source": [
        "md_new_sample = md_new_sample.reset_index()\n",
        "titles = md_new_sample['title']\n",
        "indices = pd.Series(md_new_sample.index, index=md_new_sample['title'])"
      ],
      "execution_count": 33,
      "outputs": []
    },
    {
      "cell_type": "code",
      "metadata": {
        "id": "HUef7jv5Q2Q6"
      },
      "source": [
        "def recommend(title):\n",
        "    idx = indices[title]\n",
        "    sim_scores = list(enumerate(cosine_sim[idx]))\n",
        "    sim_scores = sorted(sim_scores, key=lambda x: x[1], reverse=True)\n",
        "    sim_scores = sim_scores[1:31]\n",
        "    movie_indices = [i[0] for i in sim_scores]\n",
        "    return titles.iloc[movie_indices]"
      ],
      "execution_count": 34,
      "outputs": []
    },
    {
      "cell_type": "code",
      "metadata": {
        "id": "R4Ak9EfIQ2Q-",
        "colab": {
          "base_uri": "https://localhost:8080/"
        },
        "outputId": "26c1ee1d-0dfb-4d70-fac3-b89b477d4268"
      },
      "source": [
        "recommend('Avatar').head(10)"
      ],
      "execution_count": 35,
      "outputs": [
        {
          "output_type": "execute_result",
          "data": {
            "text/plain": [
              "3012    Lara Croft Tomb Raider: The Cradle of Life\n",
              "3299                         Hellraiser: Bloodline\n",
              "1336                                  The American\n",
              "3046                               A Grand Day Out\n",
              "3188                                 House Party 2\n",
              "26                                       Supernova\n",
              "368                                         Avalon\n",
              "433                                       Semi-Pro\n",
              "1640                     Heaven Knows, Mr. Allison\n",
              "340                               The Book of Life\n",
              "Name: title, dtype: object"
            ]
          },
          "metadata": {
            "tags": []
          },
          "execution_count": 35
        }
      ]
    }
  ]
}